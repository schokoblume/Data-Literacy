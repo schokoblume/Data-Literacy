{
 "cells": [
  {
   "cell_type": "code",
   "execution_count": 41,
   "id": "866e098c-dda8-4bbb-bb1e-bea6b9184301",
   "metadata": {},
   "outputs": [
    {
     "data": {
      "text/plain": [
       "pandas.core.series.Series"
      ]
     },
     "execution_count": 41,
     "metadata": {},
     "output_type": "execute_result"
    }
   ],
   "source": [
    "import pandas as pd\n",
    "import matplotlib.pyplot as plt\n",
    "import numpy as np\n",
    "from sklearn.linear_model import LinearRegression\n",
    "from sklearn.preprocessing import PolynomialFeatures\n",
    "import scipy.stats as st\n",
    "import statsmodels.api as sm\n",
    "import datetime\n",
    "\n",
    "read_path = r'C:\\Users\\XeniaRieger\\OneDrive - bwedu\\Dokumente\\Studium Master\\1. Semester\\Data Literacy\\Data-Literacy\\Data\\joined_survey_article_standardized_median.csv'\n",
    "df = pd.read_csv(read_path, delimiter=';', header=0)\n",
    "df[\"date\"] = pd.to_datetime(df[\"date\"], format=\"%d.%m.%Y\")\n",
    "df[\"SPD\"] = pd.to_numeric(df[\"SPD\"], errors='coerce')\n",
    "df[\"Union\"] = pd.to_numeric(df[\"Union\"], errors='coerce')\n",
    "df[\"Grüne\"] = pd.to_numeric(df[\"Grüne\"], errors='coerce')\n",
    "df[\"FDP\"] = pd.to_numeric(df[\"FDP\"], errors='coerce')\n",
    "df[\"AfD\"] = pd.to_numeric(df[\"AfD\"], errors='coerce')\n",
    "df[\"Linke\"] = pd.to_numeric(df[\"Linke\"], errors='coerce')"
   ]
  },
  {
   "cell_type": "code",
   "execution_count": 65,
   "id": "c0b89fbc-6197-4ced-913e-a43303e7fbf4",
   "metadata": {},
   "outputs": [
    {
     "ename": "TypeError",
     "evalue": "'<' not supported between instances of 'DatetimeProperties' and 'DatetimeProperties'",
     "output_type": "error",
     "traceback": [
      "\u001b[1;31m---------------------------------------------------------------------------\u001b[0m",
      "\u001b[1;31mTypeError\u001b[0m                                 Traceback (most recent call last)",
      "Cell \u001b[1;32mIn[65], line 10\u001b[0m\n\u001b[0;32m      8\u001b[0m year \u001b[38;5;241m=\u001b[39m date_before\u001b[38;5;241m.\u001b[39mdt\u001b[38;5;241m.\u001b[39myear\n\u001b[0;32m      9\u001b[0m \u001b[38;5;66;03m#total_df = df[((df[\"date\"].dt  >= int(date_before.dt.year)) & (df[\"date\"].dt.month >= int(date_before.dt.month))) & ((df[\"date\"].dt.year <= int(date_after.dt.year)) & (df[\"date\"].dt.month <= int(date_after.dt.month)))] \u001b[39;00m\n\u001b[1;32m---> 10\u001b[0m \u001b[43mdate_max\u001b[49m\u001b[38;5;241;43m.\u001b[39;49m\u001b[43mdt\u001b[49m\u001b[43m \u001b[49m\u001b[38;5;241;43m<\u001b[39;49m\u001b[43m \u001b[49m\u001b[43mdf\u001b[49m\u001b[43m[\u001b[49m\u001b[38;5;124;43m\"\u001b[39;49m\u001b[38;5;124;43mdate\u001b[39;49m\u001b[38;5;124;43m\"\u001b[39;49m\u001b[43m]\u001b[49m\u001b[38;5;241;43m.\u001b[39;49m\u001b[43mdt\u001b[49m\n",
      "\u001b[1;31mTypeError\u001b[0m: '<' not supported between instances of 'DatetimeProperties' and 'DatetimeProperties'"
     ]
    }
   ],
   "source": [
    "# filter data: get one high value, some (long) time before, short time after\n",
    "max_article = max(df[\"standardized_war_articles\"])\n",
    "date_max = df[df[\"standardized_war_articles\"] == max_article][\"date\"]\n",
    "date_max = \n",
    "time_after = 3*7 # three weeks\n",
    "time_before = 8*7 # two months\n",
    "date_after = date_max + datetime.timedelta(time_after)\n",
    "date_before = date_max - datetime.timedelta(time_before)\n",
    "year = date_before.dt.year\n",
    "#total_df = df[((df[\"date\"].dt  >= int(date_before.dt.year)) & (df[\"date\"].dt.month >= int(date_before.dt.month))) & ((df[\"date\"].dt.year <= int(date_after.dt.year)) & (df[\"date\"].dt.month <= int(date_after.dt.month)))] \n",
    "date_max.dt < df[\"date\"].dt\n",
    "\n",
    "\n"
   ]
  },
  {
   "cell_type": "code",
   "execution_count": null,
   "id": "f9cef1e0-0c7d-42cc-8006-9038033e5d14",
   "metadata": {},
   "outputs": [],
   "source": []
  }
 ],
 "metadata": {
  "kernelspec": {
   "display_name": "Python 3 (ipykernel)",
   "language": "python",
   "name": "python3"
  },
  "language_info": {
   "codemirror_mode": {
    "name": "ipython",
    "version": 3
   },
   "file_extension": ".py",
   "mimetype": "text/x-python",
   "name": "python",
   "nbconvert_exporter": "python",
   "pygments_lexer": "ipython3",
   "version": "3.10.4"
  }
 },
 "nbformat": 4,
 "nbformat_minor": 5
}
