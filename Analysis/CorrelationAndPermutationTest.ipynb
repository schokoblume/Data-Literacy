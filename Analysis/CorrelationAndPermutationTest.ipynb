{
 "cells": [
  {
   "cell_type": "markdown",
   "id": "1a58bbc0-03f6-470b-977f-8f03def2c77e",
   "metadata": {},
   "source": [
    "In this file, we check correlation between survey values for each party and article number for the wars with most media presens. \n",
    "To check whether the correlation is statistically significant, we do a permutation test for each correlation value and obtain a p-value."
   ]
  },
  {
   "cell_type": "code",
   "execution_count": 1,
   "id": "5b52001f-187e-4dc3-ba2a-e60bd86eac5d",
   "metadata": {},
   "outputs": [],
   "source": [
    "import pandas as pd\n",
    "import os\n",
    "from pathlib import Path\n",
    "import matplotlib.pyplot as plt\n",
    "import datetime\n",
    "import numpy as np\n",
    "import math\n",
    "\n",
    "read_path =  r'C:\\Users\\Julia\\Documents\\Uni\\Master\\1\\Data-Literacy\\Data-Literacy\\Data\\joined_survey_article_standardized_median.csv'\n",
    "df = pd.read_csv(read_path, delimiter=';', header=0)\n",
    "df[\"date\"] = pd.to_datetime(df[\"date\"], format=\"%d.%m.%Y\")\n",
    "df[\"SPD\"] = pd.to_numeric(df[\"SPD\"], errors='coerce')\n",
    "df[\"Union\"] = pd.to_numeric(df[\"Union\"], errors='coerce')\n",
    "df[\"Grüne\"] = pd.to_numeric(df[\"Grüne\"], errors='coerce')\n",
    "df[\"FDP\"] = pd.to_numeric(df[\"FDP\"], errors='coerce')\n",
    "df[\"AfD\"] = pd.to_numeric(df[\"AfD\"], errors='coerce')\n",
    "df[\"Linke\"] = pd.to_numeric(df[\"Linke\"], errors='coerce')"
   ]
  },
  {
   "cell_type": "markdown",
   "id": "bda86f09-9e08-46ef-9334-304ff251b9c9",
   "metadata": {},
   "source": [
    "First we define the timeframes to test. In our opinion it does not make sense to calculate correlation for all years: due to different opinions on each war a party might have positive or negative correlations for different wars.\n",
    "The wars with the most media presens are defined by the highest article numbers:\n",
    "**2003: january, february, march, april -> Irakkrieg**\n",
    "2008: August -> Russland und Georgien\n",
    "2009: januray -> Operation Gegossenes Blei, Israel und der Hamas im Gazastreifen.\n",
    "**2022 and 2023: all year -> verschiedene Konflikte, Russland und Ukraine**\n",
    "We decide not to calculate correlation for 2008 and 2009, as both wars are media present only for one to two surveys. For war in Irak and Ukraine we look at the correlation of each parties values with the article number. For Irak war we add half a year before and after media presence. For Ukraine war we start at the first media presenz and calcuate correlation until our last values, as the conflict is ongoing."
   ]
  },
  {
   "cell_type": "code",
   "execution_count": 2,
   "id": "081285cb-6247-4cef-823f-c4f605da13eb",
   "metadata": {},
   "outputs": [],
   "source": [
    "this_df = df[(df['date'].dt.year >= 2002) & (df['date'].dt.year <= 2004)]\n",
    "high_values = this_df[this_df['standardized_war_articles'] >= 0.2]\n",
    "first = high_values['date'].iloc[-1]\n",
    "last = high_values['date'].iloc[0]\n",
    "new_first = first - datetime.timedelta(days=6*30)\n",
    "new_last = last + datetime.timedelta(days=6*30)\n",
    "war_df_irak = df[(df['date'] >= new_first) & (df['date'] <= new_last)]"
   ]
  },
  {
   "cell_type": "code",
   "execution_count": 3,
   "id": "57cdbba6-c208-4991-a63c-66c8cda0de87",
   "metadata": {},
   "outputs": [
    {
     "name": "stderr",
     "output_type": "stream",
     "text": [
      "C:\\Users\\Julia\\AppData\\Local\\Temp\\ipykernel_1196\\3864863046.py:1: FutureWarning: The default value of numeric_only in DataFrame.corr is deprecated. In a future version, it will default to False. Select only valid columns or specify the value of numeric_only to silence this warning.\n",
      "  correlation_matrix_irak = war_df_irak.corr()\n"
     ]
    },
    {
     "data": {
      "text/plain": [
       "Unnamed: 0                   0.004723\n",
       "SPD                         -0.293295\n",
       "Union                        0.368109\n",
       "Grüne                        0.388835\n",
       "FDP                         -0.373680\n",
       "AfD                               NaN\n",
       "Linke                       -0.551424\n",
       "standardized_war_articles    1.000000\n",
       "Name: standardized_war_articles, dtype: float64"
      ]
     },
     "execution_count": 3,
     "metadata": {},
     "output_type": "execute_result"
    }
   ],
   "source": [
    "correlation_matrix_irak = war_df_irak.corr()\n",
    "correlation_matrix_irak['standardized_war_articles']"
   ]
  },
  {
   "cell_type": "code",
   "execution_count": 4,
   "id": "dedb5ea8-9d13-450c-b361-e522d4b7b652",
   "metadata": {},
   "outputs": [],
   "source": [
    "this_df = df[(df['date'].dt.year >= 2022) & (df['date'].dt.year <= 2023)]\n",
    "high_values = this_df[this_df['standardized_war_articles'] >= 0.2]\n",
    "first = high_values['date'].iloc[-1]\n",
    "new_first = first - datetime.timedelta(days=6*30)\n",
    "war_df_ukraine = df[(df['date'] >= new_first)]"
   ]
  },
  {
   "cell_type": "code",
   "execution_count": 5,
   "id": "15eb5268-563c-4108-a97a-98f18bb8edb9",
   "metadata": {},
   "outputs": [
    {
     "name": "stderr",
     "output_type": "stream",
     "text": [
      "C:\\Users\\Julia\\AppData\\Local\\Temp\\ipykernel_1196\\3685756595.py:1: FutureWarning: The default value of numeric_only in DataFrame.corr is deprecated. In a future version, it will default to False. Select only valid columns or specify the value of numeric_only to silence this warning.\n",
      "  correlation_matrix_ukraine = war_df_ukraine.corr()\n"
     ]
    },
    {
     "data": {
      "text/plain": [
       "Unnamed: 0                  -0.172543\n",
       "SPD                         -0.131870\n",
       "Union                        0.359961\n",
       "Grüne                        0.129753\n",
       "FDP                         -0.393386\n",
       "AfD                          0.039217\n",
       "Linke                       -0.365879\n",
       "standardized_war_articles    1.000000\n",
       "Name: standardized_war_articles, dtype: float64"
      ]
     },
     "execution_count": 5,
     "metadata": {},
     "output_type": "execute_result"
    }
   ],
   "source": [
    "correlation_matrix_ukraine = war_df_ukraine.corr()\n",
    "correlation_matrix_ukraine['standardized_war_articles']"
   ]
  },
  {
   "cell_type": "code",
   "execution_count": 6,
   "id": "c17610e9-c145-412b-b981-324e86b03dde",
   "metadata": {},
   "outputs": [
    {
     "data": {
      "text/html": [
       "<div>\n",
       "<style scoped>\n",
       "    .dataframe tbody tr th:only-of-type {\n",
       "        vertical-align: middle;\n",
       "    }\n",
       "\n",
       "    .dataframe tbody tr th {\n",
       "        vertical-align: top;\n",
       "    }\n",
       "\n",
       "    .dataframe thead th {\n",
       "        text-align: right;\n",
       "    }\n",
       "</style>\n",
       "<table border=\"1\" class=\"dataframe\">\n",
       "  <thead>\n",
       "    <tr style=\"text-align: right;\">\n",
       "      <th></th>\n",
       "      <th>Iraq</th>\n",
       "      <th>Ukraine</th>\n",
       "    </tr>\n",
       "  </thead>\n",
       "  <tbody>\n",
       "    <tr>\n",
       "      <th>Linke</th>\n",
       "      <td>-0.551424</td>\n",
       "      <td>-0.365879</td>\n",
       "    </tr>\n",
       "    <tr>\n",
       "      <th>FDP</th>\n",
       "      <td>-0.373680</td>\n",
       "      <td>-0.393386</td>\n",
       "    </tr>\n",
       "    <tr>\n",
       "      <th>SPD</th>\n",
       "      <td>-0.293295</td>\n",
       "      <td>-0.131870</td>\n",
       "    </tr>\n",
       "    <tr>\n",
       "      <th>Union</th>\n",
       "      <td>0.368109</td>\n",
       "      <td>0.359961</td>\n",
       "    </tr>\n",
       "    <tr>\n",
       "      <th>Grüne</th>\n",
       "      <td>0.388835</td>\n",
       "      <td>0.129753</td>\n",
       "    </tr>\n",
       "    <tr>\n",
       "      <th>AfD</th>\n",
       "      <td>NaN</td>\n",
       "      <td>0.039217</td>\n",
       "    </tr>\n",
       "  </tbody>\n",
       "</table>\n",
       "</div>"
      ],
      "text/plain": [
       "           Iraq   Ukraine\n",
       "Linke -0.551424 -0.365879\n",
       "FDP   -0.373680 -0.393386\n",
       "SPD   -0.293295 -0.131870\n",
       "Union  0.368109  0.359961\n",
       "Grüne  0.388835  0.129753\n",
       "AfD         NaN  0.039217"
      ]
     },
     "execution_count": 6,
     "metadata": {},
     "output_type": "execute_result"
    }
   ],
   "source": [
    "df_res = pd.DataFrame({\"Iraq\": correlation_matrix_irak['standardized_war_articles'],\n",
    "                       \"Ukraine\": correlation_matrix_ukraine['standardized_war_articles']})\n",
    "df_res = df_res.drop([\"Unnamed: 0\", \"standardized_war_articles\"])\n",
    "df_res = df_res.sort_values(by='Iraq')\n",
    "df_res"
   ]
  },
  {
   "cell_type": "markdown",
   "id": "d60c03b0-fac0-447d-b283-19028669159f",
   "metadata": {},
   "source": [
    "It seems like there are similar correlations for each party for both wars. To check whether the correlation is statistically significant, we do a permutation test for each correlation value and obtain a p-value. For that we permute the article values for the investigated timeframe."
   ]
  },
  {
   "cell_type": "code",
   "execution_count": 7,
   "id": "a0516cf9-f5c3-474a-a441-acc1a7bf0738",
   "metadata": {},
   "outputs": [],
   "source": [
    "def permutation_test(df_test, corr_matrix, party):\n",
    "    B = 10000\n",
    "    corr_values = []\n",
    "    extrem_values = 0\n",
    "    for x in range(B):\n",
    "        df_permuted = df_test.copy()\n",
    "        # permute exising values\n",
    "        df_permuted[\"standardized_war_articles\"] = np.random.permutation(df_permuted[\"standardized_war_articles\"])\n",
    "        corr_permuted = df_permuted.corr()[\"standardized_war_articles\"][party]\n",
    "        corr_values.append(corr_permuted)\n",
    "        true_value = corr_matrix[\"standardized_war_articles\"][party]\n",
    "        if abs(corr_permuted) > abs(true_value):\n",
    "            extrem_values += 1\n",
    "\n",
    "    p_value = extrem_values / B        \n",
    "    #fig, axs = plt.subplots()\n",
    "    #axs.hist(corr_values)\n",
    "    #axs.axvline(corr_matrix[\"standardized_war_articles\"][party], alpha=1.0, color=\"red\")\n",
    "    return p_value"
   ]
  },
  {
   "cell_type": "code",
   "execution_count": 8,
   "id": "c4d8a976-cc6e-410e-82a8-1df7cfaf4348",
   "metadata": {},
   "outputs": [
    {
     "name": "stderr",
     "output_type": "stream",
     "text": [
      "C:\\Users\\Julia\\AppData\\Local\\Temp\\ipykernel_1196\\397864076.py:9: FutureWarning: The default value of numeric_only in DataFrame.corr is deprecated. In a future version, it will default to False. Select only valid columns or specify the value of numeric_only to silence this warning.\n",
      "  corr_permuted = df_permuted.corr()[\"standardized_war_articles\"][party]\n"
     ]
    },
    {
     "data": {
      "text/html": [
       "<div>\n",
       "<style scoped>\n",
       "    .dataframe tbody tr th:only-of-type {\n",
       "        vertical-align: middle;\n",
       "    }\n",
       "\n",
       "    .dataframe tbody tr th {\n",
       "        vertical-align: top;\n",
       "    }\n",
       "\n",
       "    .dataframe thead th {\n",
       "        text-align: right;\n",
       "    }\n",
       "</style>\n",
       "<table border=\"1\" class=\"dataframe\">\n",
       "  <thead>\n",
       "    <tr style=\"text-align: right;\">\n",
       "      <th></th>\n",
       "      <th>Iraq</th>\n",
       "      <th>Ukraine</th>\n",
       "    </tr>\n",
       "  </thead>\n",
       "  <tbody>\n",
       "    <tr>\n",
       "      <th>SPD</th>\n",
       "      <td>0.0186</td>\n",
       "      <td>0.3473</td>\n",
       "    </tr>\n",
       "    <tr>\n",
       "      <th>Union</th>\n",
       "      <td>0.0033</td>\n",
       "      <td>0.0077</td>\n",
       "    </tr>\n",
       "    <tr>\n",
       "      <th>Grüne</th>\n",
       "      <td>0.0019</td>\n",
       "      <td>0.3493</td>\n",
       "    </tr>\n",
       "    <tr>\n",
       "      <th>FDP</th>\n",
       "      <td>0.0028</td>\n",
       "      <td>0.0032</td>\n",
       "    </tr>\n",
       "    <tr>\n",
       "      <th>AfD</th>\n",
       "      <td>NaN</td>\n",
       "      <td>0.7719</td>\n",
       "    </tr>\n",
       "    <tr>\n",
       "      <th>Linke</th>\n",
       "      <td>0.0000</td>\n",
       "      <td>0.0057</td>\n",
       "    </tr>\n",
       "  </tbody>\n",
       "</table>\n",
       "</div>"
      ],
      "text/plain": [
       "         Iraq  Ukraine\n",
       "SPD    0.0186   0.3473\n",
       "Union  0.0033   0.0077\n",
       "Grüne  0.0019   0.3493\n",
       "FDP    0.0028   0.0032\n",
       "AfD       NaN   0.7719\n",
       "Linke  0.0000   0.0057"
      ]
     },
     "execution_count": 8,
     "metadata": {},
     "output_type": "execute_result"
    }
   ],
   "source": [
    "p_values_irak = [permutation_test(war_df_irak, correlation_matrix_irak, \"SPD\"),\n",
    "                 permutation_test(war_df_irak, correlation_matrix_irak, \"Union\"),\n",
    "                 permutation_test(war_df_irak, correlation_matrix_irak, \"Grüne\"),\n",
    "                 permutation_test(war_df_irak, correlation_matrix_irak, \"FDP\"),\n",
    "                 float('nan'),\n",
    "                 permutation_test(war_df_irak, correlation_matrix_irak, \"Linke\")]\n",
    "\n",
    "p_values_ukraine = [permutation_test(war_df_ukraine, correlation_matrix_ukraine, \"SPD\"),\n",
    "                    permutation_test(war_df_ukraine, correlation_matrix_ukraine, \"Union\"),\n",
    "                    permutation_test(war_df_ukraine, correlation_matrix_ukraine, \"Grüne\"),\n",
    "                    permutation_test(war_df_ukraine, correlation_matrix_ukraine, \"FDP\"),\n",
    "                    permutation_test(war_df_ukraine, correlation_matrix_ukraine, \"AfD\"),\n",
    "                    permutation_test(war_df_ukraine, correlation_matrix_ukraine, \"Linke\")]\n",
    "\n",
    "df_pvalues = pd.DataFrame({\"Iraq\": p_values_irak, \"Ukraine\": p_values_ukraine}, index=[\"SPD\", \"Union\", \"Grüne\", \"FDP\", \"AfD\", \"Linke\"])\n",
    "df_pvalues"
   ]
  },
  {
   "cell_type": "code",
   "execution_count": 9,
   "id": "4884b518-1b8c-4204-a7b5-cbbbdcc0c6e1",
   "metadata": {},
   "outputs": [
    {
     "data": {
      "text/html": [
       "<div>\n",
       "<style scoped>\n",
       "    .dataframe tbody tr th:only-of-type {\n",
       "        vertical-align: middle;\n",
       "    }\n",
       "\n",
       "    .dataframe tbody tr th {\n",
       "        vertical-align: top;\n",
       "    }\n",
       "\n",
       "    .dataframe thead th {\n",
       "        text-align: right;\n",
       "    }\n",
       "</style>\n",
       "<table border=\"1\" class=\"dataframe\">\n",
       "  <thead>\n",
       "    <tr style=\"text-align: right;\">\n",
       "      <th></th>\n",
       "      <th>Iraq</th>\n",
       "      <th>Ukraine</th>\n",
       "    </tr>\n",
       "  </thead>\n",
       "  <tbody>\n",
       "    <tr>\n",
       "      <th>SPD</th>\n",
       "      <td>-0.29*</td>\n",
       "      <td>-0.13</td>\n",
       "    </tr>\n",
       "    <tr>\n",
       "      <th>Union</th>\n",
       "      <td>0.37*</td>\n",
       "      <td>0.36*</td>\n",
       "    </tr>\n",
       "    <tr>\n",
       "      <th>Grüne</th>\n",
       "      <td>0.39*</td>\n",
       "      <td>0.13</td>\n",
       "    </tr>\n",
       "    <tr>\n",
       "      <th>FDP</th>\n",
       "      <td>-0.37*</td>\n",
       "      <td>-0.39*</td>\n",
       "    </tr>\n",
       "    <tr>\n",
       "      <th>AfD</th>\n",
       "      <td>NaN</td>\n",
       "      <td>0.04</td>\n",
       "    </tr>\n",
       "    <tr>\n",
       "      <th>Linke</th>\n",
       "      <td>-0.55*</td>\n",
       "      <td>-0.37*</td>\n",
       "    </tr>\n",
       "  </tbody>\n",
       "</table>\n",
       "</div>"
      ],
      "text/plain": [
       "         Iraq Ukraine\n",
       "SPD    -0.29*   -0.13\n",
       "Union   0.37*   0.36*\n",
       "Grüne   0.39*    0.13\n",
       "FDP    -0.37*  -0.39*\n",
       "AfD       NaN    0.04\n",
       "Linke  -0.55*  -0.37*"
      ]
     },
     "execution_count": 9,
     "metadata": {},
     "output_type": "execute_result"
    }
   ],
   "source": [
    "res_significant = pd.DataFrame(index=[\"SPD\", \"Union\", \"Grüne\", \"FDP\", \"AfD\", \"Linke\"], columns=[\"Iraq\", \"Ukraine\"])\n",
    "for i in [\"Iraq\", \"Ukraine\"]:\n",
    "    for j in [\"SPD\", \"Union\", \"Grüne\", \"FDP\", \"AfD\", \"Linke\"]:\n",
    "        if math.isnan(df_pvalues[i][j]):\n",
    "            continue\n",
    "        if df_pvalues[i][j] <= 0.05:\n",
    "            res_significant[i][j] = str(round(df_res[i][j], 2)) + \"*\"\n",
    "        else:\n",
    "            res_significant[i][j] = str(round(df_res[i][j], 2))\n",
    "res_significant\n",
    "\n",
    "#with open('mytable.tex','w') as tf:\n",
    "#    tf.write(res_significant.to_latex())"
   ]
  },
  {
   "cell_type": "code",
   "execution_count": 30,
   "id": "dfaa038b",
   "metadata": {},
   "outputs": [
    {
     "name": "stderr",
     "output_type": "stream",
     "text": [
      "findfont: Generic family 'serif' not found because none of the following families were found: Times\n",
      "findfont: Generic family 'serif' not found because none of the following families were found: Times\n",
      "findfont: Generic family 'serif' not found because none of the following families were found: Times\n",
      "findfont: Generic family 'serif' not found because none of the following families were found: Times\n"
     ]
    },
    {
     "name": "stderr",
     "output_type": "stream",
     "text": [
      "findfont: Generic family 'serif' not found because none of the following families were found: Times\n",
      "findfont: Generic family 'serif' not found because none of the following families were found: Times\n",
      "findfont: Generic family 'serif' not found because none of the following families were found: Times\n",
      "findfont: Generic family 'serif' not found because none of the following families were found: Times\n",
      "findfont: Generic family 'serif' not found because none of the following families were found: Times\n",
      "findfont: Generic family 'serif' not found because none of the following families were found: Times\n",
      "findfont: Generic family 'serif' not found because none of the following families were found: Times\n",
      "findfont: Generic family 'serif' not found because none of the following families were found: Times\n",
      "findfont: Generic family 'serif' not found because none of the following families were found: Times\n",
      "findfont: Generic family 'serif' not found because none of the following families were found: Times\n",
      "findfont: Generic family 'serif' not found because none of the following families were found: Times\n",
      "findfont: Generic family 'serif' not found because none of the following families were found: Times\n",
      "findfont: Generic family 'serif' not found because none of the following families were found: Times\n",
      "findfont: Generic family 'serif' not found because none of the following families were found: Times\n",
      "findfont: Generic family 'serif' not found because none of the following families were found: Times\n",
      "findfont: Generic family 'serif' not found because none of the following families were found: Times\n",
      "findfont: Generic family 'serif' not found because none of the following families were found: Times\n",
      "findfont: Generic family 'serif' not found because none of the following families were found: Times\n",
      "findfont: Generic family 'serif' not found because none of the following families were found: Times\n",
      "findfont: Generic family 'serif' not found because none of the following families were found: Times\n",
      "findfont: Generic family 'serif' not found because none of the following families were found: Times\n",
      "findfont: Generic family 'serif' not found because none of the following families were found: Times\n",
      "findfont: Generic family 'serif' not found because none of the following families were found: Times\n",
      "findfont: Generic family 'serif' not found because none of the following families were found: Times\n",
      "findfont: Generic family 'serif' not found because none of the following families were found: Times\n",
      "findfont: Generic family 'serif' not found because none of the following families were found: Times\n",
      "findfont: Generic family 'serif' not found because none of the following families were found: Times\n",
      "findfont: Generic family 'serif' not found because none of the following families were found: Times\n",
      "findfont: Generic family 'serif' not found because none of the following families were found: Times\n",
      "findfont: Generic family 'serif' not found because none of the following families were found: Times\n",
      "findfont: Generic family 'serif' not found because none of the following families were found: Times\n",
      "findfont: Generic family 'serif' not found because none of the following families were found: Times\n",
      "findfont: Generic family 'serif' not found because none of the following families were found: Times\n",
      "findfont: Generic family 'serif' not found because none of the following families were found: Times\n",
      "findfont: Generic family 'serif' not found because none of the following families were found: Times\n",
      "findfont: Generic family 'serif' not found because none of the following families were found: Times\n",
      "findfont: Generic family 'serif' not found because none of the following families were found: Times\n",
      "findfont: Generic family 'serif' not found because none of the following families were found: Times\n",
      "findfont: Generic family 'serif' not found because none of the following families were found: Times\n",
      "findfont: Generic family 'serif' not found because none of the following families were found: Times\n",
      "findfont: Generic family 'serif' not found because none of the following families were found: Times\n",
      "findfont: Generic family 'serif' not found because none of the following families were found: Times\n",
      "findfont: Generic family 'serif' not found because none of the following families were found: Times\n",
      "findfont: Generic family 'serif' not found because none of the following families were found: Times\n",
      "findfont: Generic family 'serif' not found because none of the following families were found: Times\n",
      "findfont: Generic family 'serif' not found because none of the following families were found: Times\n",
      "findfont: Generic family 'serif' not found because none of the following families were found: Times\n",
      "findfont: Generic family 'serif' not found because none of the following families were found: Times\n",
      "findfont: Generic family 'serif' not found because none of the following families were found: Times\n",
      "findfont: Generic family 'serif' not found because none of the following families were found: Times\n",
      "findfont: Generic family 'serif' not found because none of the following families were found: Times\n",
      "findfont: Generic family 'serif' not found because none of the following families were found: Times\n",
      "findfont: Generic family 'serif' not found because none of the following families were found: Times\n",
      "findfont: Generic family 'serif' not found because none of the following families were found: Times\n",
      "findfont: Generic family 'serif' not found because none of the following families were found: Times\n",
      "findfont: Generic family 'serif' not found because none of the following families were found: Times\n",
      "findfont: Generic family 'serif' not found because none of the following families were found: Times\n",
      "findfont: Generic family 'serif' not found because none of the following families were found: Times\n",
      "findfont: Generic family 'serif' not found because none of the following families were found: Times\n",
      "findfont: Generic family 'serif' not found because none of the following families were found: Times\n",
      "findfont: Generic family 'serif' not found because none of the following families were found: Times\n",
      "findfont: Generic family 'serif' not found because none of the following families were found: Times\n",
      "findfont: Generic family 'serif' not found because none of the following families were found: Times\n",
      "findfont: Generic family 'serif' not found because none of the following families were found: Times\n",
      "findfont: Generic family 'serif' not found because none of the following families were found: Times\n",
      "findfont: Generic family 'serif' not found because none of the following families were found: Times\n",
      "findfont: Generic family 'serif' not found because none of the following families were found: Times\n",
      "findfont: Generic family 'serif' not found because none of the following families were found: Times\n",
      "findfont: Generic family 'serif' not found because none of the following families were found: Times\n",
      "findfont: Generic family 'serif' not found because none of the following families were found: Times\n",
      "findfont: Generic family 'serif' not found because none of the following families were found: Times\n",
      "findfont: Generic family 'serif' not found because none of the following families were found: Times\n",
      "findfont: Generic family 'serif' not found because none of the following families were found: Times\n",
      "findfont: Generic family 'serif' not found because none of the following families were found: Times\n",
      "findfont: Generic family 'serif' not found because none of the following families were found: Times\n",
      "findfont: Generic family 'serif' not found because none of the following families were found: Times\n",
      "findfont: Generic family 'serif' not found because none of the following families were found: Times\n",
      "findfont: Generic family 'serif' not found because none of the following families were found: Times\n",
      "findfont: Generic family 'serif' not found because none of the following families were found: Times\n"
     ]
    },
    {
     "data": {
      "image/png": "[encoded data removed]",
      "text/plain": [
       "<Figure size 675x208.586 with 2 Axes>"
      ]
     },
     "metadata": {},
     "output_type": "display_data"
    }
   ],
   "source": [
    "# heatmap with correlation values\n",
    "import pandas as pd\n",
    "import matplotlib.pyplot as plt\n",
    "import seaborn as sns\n",
    "from matplotlib.colors import to_rgba\n",
    "from matplotlib.colors import LinearSegmentedColormap\n",
    "\n",
    "from tueplots import bundles\n",
    "from tueplots.constants.color.palettes import rgb\n",
    "\n",
    "plt.rcParams.update(bundles.icml2022(column='full', nrows=1, ncols=2, usetex=False))\n",
    "\n",
    "df_res_sorted = df_res.sort_values(by = 'Iraq', ascending=False)\n",
    "labels = res_significant.sort_values(by='Iraq', key=lambda col: col.str[0:-1].astype(float), ascending=False).values\n",
    "\n",
    "cmap = LinearSegmentedColormap.from_list('', [rgb.tue_red, rgb.tue_lightgold, rgb.tue_red])\n",
    "axis_labels = df_res_sorted.index.values\n",
    "\n",
    "\n",
    "sns.heatmap(df_res_sorted, yticklabels=axis_labels, cmap = cmap, annot=labels, fmt=\"\" )\n",
    "\n",
    "plt.show()"
   ]
  },
  {
   "cell_type": "code",
   "execution_count": 29,
   "id": "817be9e8",
   "metadata": {},
   "outputs": [
    {
     "data": {
      "text/html": [
       "<div>\n",
       "<style scoped>\n",
       "    .dataframe tbody tr th:only-of-type {\n",
       "        vertical-align: middle;\n",
       "    }\n",
       "\n",
       "    .dataframe tbody tr th {\n",
       "        vertical-align: top;\n",
       "    }\n",
       "\n",
       "    .dataframe thead th {\n",
       "        text-align: right;\n",
       "    }\n",
       "</style>\n",
       "<table border=\"1\" class=\"dataframe\">\n",
       "  <thead>\n",
       "    <tr style=\"text-align: right;\">\n",
       "      <th></th>\n",
       "      <th>Iraq</th>\n",
       "      <th>Ukraine</th>\n",
       "    </tr>\n",
       "  </thead>\n",
       "  <tbody>\n",
       "    <tr>\n",
       "      <th>Linke</th>\n",
       "      <td>-0.551424</td>\n",
       "      <td>-0.365879</td>\n",
       "    </tr>\n",
       "    <tr>\n",
       "      <th>FDP</th>\n",
       "      <td>-0.373680</td>\n",
       "      <td>-0.393386</td>\n",
       "    </tr>\n",
       "    <tr>\n",
       "      <th>SPD</th>\n",
       "      <td>-0.293295</td>\n",
       "      <td>-0.131870</td>\n",
       "    </tr>\n",
       "    <tr>\n",
       "      <th>Union</th>\n",
       "      <td>0.368109</td>\n",
       "      <td>0.359961</td>\n",
       "    </tr>\n",
       "    <tr>\n",
       "      <th>Grüne</th>\n",
       "      <td>0.388835</td>\n",
       "      <td>0.129753</td>\n",
       "    </tr>\n",
       "    <tr>\n",
       "      <th>AfD</th>\n",
       "      <td>NaN</td>\n",
       "      <td>0.039217</td>\n",
       "    </tr>\n",
       "  </tbody>\n",
       "</table>\n",
       "</div>"
      ],
      "text/plain": [
       "           Iraq   Ukraine\n",
       "Linke -0.551424 -0.365879\n",
       "FDP   -0.373680 -0.393386\n",
       "SPD   -0.293295 -0.131870\n",
       "Union  0.368109  0.359961\n",
       "Grüne  0.388835  0.129753\n",
       "AfD         NaN  0.039217"
      ]
     },
     "execution_count": 29,
     "metadata": {},
     "output_type": "execute_result"
    }
   ],
   "source": [
    "df_res_sorted"
   ]
  },
  {
   "cell_type": "code",
   "execution_count": 16,
   "id": "4b85a1e4",
   "metadata": {},
   "outputs": [
    {
     "data": {
      "text/plain": [
       "array([['0.39*', '0.13'],\n",
       "       ['0.37*', '0.36*'],\n",
       "       ['-0.29*', '-0.13'],\n",
       "       ['-0.37*', '-0.39*'],\n",
       "       ['-0.55*', '-0.37*'],\n",
       "       [nan, '0.04']], dtype=object)"
      ]
     },
     "execution_count": 16,
     "metadata": {},
     "output_type": "execute_result"
    }
   ],
   "source": [
    "labels = res_significant.sort_values(by='Iraq', key=lambda col: col.str[0:-1].astype(float), ascending=False).values\n",
    "labels"
   ]
  },
  {
   "cell_type": "code",
   "execution_count": 12,
   "id": "fd6b2d21",
   "metadata": {},
   "outputs": [
    {
     "data": {
      "text/plain": [
       "array([['-0.29*', '-0.13'],\n",
       "       ['0.37*', '0.36*'],\n",
       "       ['0.39*', '0.13'],\n",
       "       ['-0.37*', '-0.39*'],\n",
       "       [nan, '0.04'],\n",
       "       ['-0.55*', '-0.37*']], dtype=object)"
      ]
     },
     "execution_count": 12,
     "metadata": {},
     "output_type": "execute_result"
    }
   ],
   "source": [
    "labels = res_significant.values\n",
    "labels"
   ]
  },
  {
   "cell_type": "code",
   "execution_count": 13,
   "id": "daf53e95",
   "metadata": {},
   "outputs": [
    {
     "data": {
      "text/html": [
       "<div>\n",
       "<style scoped>\n",
       "    .dataframe tbody tr th:only-of-type {\n",
       "        vertical-align: middle;\n",
       "    }\n",
       "\n",
       "    .dataframe tbody tr th {\n",
       "        vertical-align: top;\n",
       "    }\n",
       "\n",
       "    .dataframe thead th {\n",
       "        text-align: right;\n",
       "    }\n",
       "</style>\n",
       "<table border=\"1\" class=\"dataframe\">\n",
       "  <thead>\n",
       "    <tr style=\"text-align: right;\">\n",
       "      <th></th>\n",
       "      <th>Iraq</th>\n",
       "      <th>Ukraine</th>\n",
       "    </tr>\n",
       "  </thead>\n",
       "  <tbody>\n",
       "    <tr>\n",
       "      <th>Grüne</th>\n",
       "      <td>0.39*</td>\n",
       "      <td>0.13</td>\n",
       "    </tr>\n",
       "    <tr>\n",
       "      <th>Union</th>\n",
       "      <td>0.37*</td>\n",
       "      <td>0.36*</td>\n",
       "    </tr>\n",
       "    <tr>\n",
       "      <th>SPD</th>\n",
       "      <td>-0.29*</td>\n",
       "      <td>-0.13</td>\n",
       "    </tr>\n",
       "    <tr>\n",
       "      <th>FDP</th>\n",
       "      <td>-0.37*</td>\n",
       "      <td>-0.39*</td>\n",
       "    </tr>\n",
       "    <tr>\n",
       "      <th>Linke</th>\n",
       "      <td>-0.55*</td>\n",
       "      <td>-0.37*</td>\n",
       "    </tr>\n",
       "    <tr>\n",
       "      <th>AfD</th>\n",
       "      <td>NaN</td>\n",
       "      <td>0.04</td>\n",
       "    </tr>\n",
       "  </tbody>\n",
       "</table>\n",
       "</div>"
      ],
      "text/plain": [
       "         Iraq Ukraine\n",
       "Grüne   0.39*    0.13\n",
       "Union   0.37*   0.36*\n",
       "SPD    -0.29*   -0.13\n",
       "FDP    -0.37*  -0.39*\n",
       "Linke  -0.55*  -0.37*\n",
       "AfD       NaN    0.04"
      ]
     },
     "execution_count": 13,
     "metadata": {},
     "output_type": "execute_result"
    }
   ],
   "source": [
    "res_significant.sort_values(by='Iraq', key=lambda col: col.str[0:-1].astype(float), ascending=False)"
   ]
  },
  {
   "cell_type": "code",
   "execution_count": null,
   "id": "d31ad672",
   "metadata": {},
   "outputs": [],
   "source": []
  },
  {
   "cell_type": "code",
   "execution_count": 14,
   "id": "5517cd37",
   "metadata": {},
   "outputs": [
    {
     "data": {
      "text/plain": [
       "['Grüne', 'Union', 'Linke', 'FDP', 'SPD', 'AfD']"
      ]
     },
     "execution_count": 14,
     "metadata": {},
     "output_type": "execute_result"
    }
   ],
   "source": []
  }
 ],
 "metadata": {
  "kernelspec": {
   "display_name": "Python 3 (ipykernel)",
   "language": "python",
   "name": "python3"
  },
  "language_info": {
   "codemirror_mode": {
    "name": "ipython",
    "version": 3
   },
   "file_extension": ".py",
   "mimetype": "text/x-python",
   "name": "python",
   "nbconvert_exporter": "python",
   "pygments_lexer": "ipython3",
   "version": "3.10.11"
  }
 },
 "nbformat": 4,
 "nbformat_minor": 5
}
