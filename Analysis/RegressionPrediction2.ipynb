{
 "cells": [
  {
   "cell_type": "code",
   "execution_count": 2,
   "id": "866e098c-dda8-4bbb-bb1e-bea6b9184301",
   "metadata": {},
   "outputs": [],
   "source": [
    "import pandas as pd\n",
    "import matplotlib.pyplot as plt\n",
    "import numpy as np\n",
    "from statsmodels.tools.eval_measures import rmse\n",
    "import statsmodels.api as sm\n",
    "import datetime\n",
    "from tueplots import bundles\n",
    "from tueplots.constants.color.palettes import rgb\n",
    "\n",
    "read_path = r'C:\\Users\\XeniaRieger\\OneDrive - bwedu\\Dokumente\\Studium Master\\1. Semester\\Data Literacy\\Data-Literacy\\Data\\joined_survey_article_standardized_median.csv'\n",
    "df = pd.read_csv(read_path, delimiter=';', header=0)\n",
    "df[\"date\"] = pd.to_datetime(df[\"date\"], format=\"%d.%m.%Y\")\n",
    "df[\"SPD\"] = pd.to_numeric(df[\"SPD\"], errors='coerce')\n",
    "df[\"Union\"] = pd.to_numeric(df[\"Union\"], errors='coerce')\n",
    "df[\"Grüne\"] = pd.to_numeric(df[\"Grüne\"], errors='coerce')\n",
    "df[\"FDP\"] = pd.to_numeric(df[\"FDP\"], errors='coerce')\n",
    "df[\"AfD\"] = pd.to_numeric(df[\"AfD\"], errors='coerce')\n",
    "df[\"Linke\"] = pd.to_numeric(df[\"Linke\"], errors='coerce')"
   ]
  },
  {
   "cell_type": "code",
   "execution_count": 23,
   "id": "c0b89fbc-6197-4ced-913e-a43303e7fbf4",
   "metadata": {},
   "outputs": [],
   "source": [
    "# filter data: get highest article values, long time before, short time after\n",
    "dates_max = df.sort_values('standardized_war_articles').nlargest(10, 'standardized_war_articles')\n",
    "results = {}\n",
    "removed = pd.DataFrame(columns=[\"no effect\"], index=[\"Union\", \"SPD\", \"Grüne\", \"FDP\", \"AfD\", \"Linke\"])\n",
    "plot_parties = [\"Union\", \"SPD\", \"Grüne\"]\n",
    "for party in [\"Union\", \"SPD\", \"Grüne\", \"FDP\", \"AfD\", \"Linke\"]:\n",
    "    removed.loc[party, \"no effect\"] = 0\n",
    "for date in dates_max['date']:\n",
    "    df_res = pd.DataFrame(columns=[\"R2 Reg\", \"MSE Reg\", \"MSE Pred\", \"Mean diff\"])\n",
    "    results.update({date: df_res})\n",
    "    time_after = 4*7 # three weeks\n",
    "    time_before = 4*7\n",
    "    date_after = date + datetime.timedelta(days=time_after)\n",
    "    date_before = date - datetime.timedelta(days=time_before)\n",
    "    total_df = df[(df[\"date\"] <= date_after) & (df[\"date\"] >= date_before)]\n",
    "    regression_df = total_df[total_df[\"date\"] <= date]\n",
    "    pred_df = total_df[total_df[\"date\"] >= date]\n",
    "    for party in [\"Union\", \"SPD\", \"Grüne\", \"FDP\", \"AfD\", \"Linke\"]:\n",
    "        regression_df = regression_df[(~regression_df[party].isna())]\n",
    "        pred_df = pred_df[(~pred_df[party].isna())]\n",
    "        if regression_df.empty or pred_df.empty:\n",
    "            continue\n",
    "        X = regression_df.index.values\n",
    "        Y = regression_df[party]\n",
    "        # fit model\n",
    "        model = sm.OLS(Y, X).fit()\n",
    "        #print(model.summary())\n",
    "        r2_reg = model.rsquared\n",
    "        # get values for regression\n",
    "        y_reg = model.predict(X)\n",
    "        mse_reg = rmse(Y, y_reg)\n",
    "        # get values for prediction\n",
    "        X_pred = pred_df.index.values\n",
    "        Y_pred = pred_df[party]\n",
    "        y_pred = model.predict(X_pred)\n",
    "        mse_pred = rmse(Y_pred, y_pred)\n",
    "        # only take obs with effect, count otherwise\n",
    "        if mse_pred > mse_reg:\n",
    "            df_res.loc[party, \"MSE Reg\"] = round(mse_reg, 2)\n",
    "            df_res.loc[party, \"MSE Pred\"] = round(mse_pred, 2)\n",
    "            df_res.loc[party, \"R2 Reg\"] = round(r2_reg, 3)\n",
    "            # calculate difference\n",
    "            real_values = pred_df[party]\n",
    "            diff = real_values - y_pred\n",
    "            mean_diff = np.mean(diff)\n",
    "            df_res.loc[party, \"Mean diff\"] = round(mean_diff, 2)\n",
    "        else:\n",
    "            removed.loc[party, \"no effect\"] += 1"
   ]
  },
  {
   "cell_type": "code",
   "execution_count": 24,
   "id": "88537d39-d577-4916-9b57-b228c9b2c213",
   "metadata": {},
   "outputs": [
    {
     "data": {
      "text/html": [
       "<div>\n",
       "<style scoped>\n",
       "    .dataframe tbody tr th:only-of-type {\n",
       "        vertical-align: middle;\n",
       "    }\n",
       "\n",
       "    .dataframe tbody tr th {\n",
       "        vertical-align: top;\n",
       "    }\n",
       "\n",
       "    .dataframe thead th {\n",
       "        text-align: right;\n",
       "    }\n",
       "</style>\n",
       "<table border=\"1\" class=\"dataframe\">\n",
       "  <thead>\n",
       "    <tr style=\"text-align: right;\">\n",
       "      <th></th>\n",
       "      <th>no effect</th>\n",
       "    </tr>\n",
       "  </thead>\n",
       "  <tbody>\n",
       "    <tr>\n",
       "      <th>Union</th>\n",
       "      <td>2</td>\n",
       "    </tr>\n",
       "    <tr>\n",
       "      <th>SPD</th>\n",
       "      <td>4</td>\n",
       "    </tr>\n",
       "    <tr>\n",
       "      <th>Grüne</th>\n",
       "      <td>4</td>\n",
       "    </tr>\n",
       "    <tr>\n",
       "      <th>FDP</th>\n",
       "      <td>2</td>\n",
       "    </tr>\n",
       "    <tr>\n",
       "      <th>AfD</th>\n",
       "      <td>2</td>\n",
       "    </tr>\n",
       "    <tr>\n",
       "      <th>Linke</th>\n",
       "      <td>0</td>\n",
       "    </tr>\n",
       "  </tbody>\n",
       "</table>\n",
       "</div>"
      ],
      "text/plain": [
       "      no effect\n",
       "Union         2\n",
       "SPD           4\n",
       "Grüne         4\n",
       "FDP           2\n",
       "AfD           2\n",
       "Linke         0"
      ]
     },
     "execution_count": 24,
     "metadata": {},
     "output_type": "execute_result"
    }
   ],
   "source": [
    "removed"
   ]
  },
  {
   "cell_type": "code",
   "execution_count": 25,
   "id": "398be2e7-1a8a-4097-9574-b63b85a65d7c",
   "metadata": {},
   "outputs": [
    {
     "data": {
      "text/plain": [
       "{Timestamp('2003-03-28 00:00:00'):       R2 Reg MSE Reg MSE Pred Mean diff\n",
       " Union  0.999    1.17     1.83      -1.7\n",
       " SPD    0.997    1.53     2.03      1.99\n",
       " Grüne  0.997    0.62     0.65      0.07\n",
       " FDP    0.993    0.48     0.49      0.03,\n",
       " Timestamp('2022-03-18 00:00:00'):       R2 Reg MSE Reg MSE Pred Mean diff\n",
       " Union    1.0    0.49     1.12      0.88\n",
       " Grüne  0.995    1.12     2.94      2.76\n",
       " FDP      1.0    0.17     0.35      0.09\n",
       " Linke  0.993     0.4     0.46     -0.46,\n",
       " Timestamp('2003-04-04 00:00:00'):       R2 Reg MSE Reg MSE Pred Mean diff\n",
       " Grüne  0.997    0.62     0.76     -0.13\n",
       " FDP    0.993    0.49     0.77      0.44,\n",
       " Timestamp('2022-04-07 00:00:00'):       R2 Reg MSE Reg MSE Pred Mean diff\n",
       " Union    1.0    0.19     1.44      1.09\n",
       " SPD      1.0     0.2     0.62      0.38\n",
       " FDP      1.0    0.11      0.5     -0.01\n",
       " AfD      1.0    0.13     0.45       0.4\n",
       " Linke    1.0    0.05     0.45     -0.19,\n",
       " Timestamp('2022-03-03 00:00:00'):       R2 Reg MSE Reg MSE Pred Mean diff\n",
       " Union    1.0    0.25     0.64      0.57\n",
       " SPD    0.995    1.68     2.19      2.17\n",
       " Grüne  0.999    0.55     1.53      1.37\n",
       " Linke    1.0    0.09     0.55     -0.33,\n",
       " Timestamp('2003-04-11 00:00:00'):       R2 Reg MSE Reg MSE Pred Mean diff\n",
       " Grüne  0.998    0.48      0.8      0.27\n",
       " FDP    0.992    0.49     0.99      0.64,\n",
       " Timestamp('2003-01-03 00:00:00'):       R2 Reg MSE Reg MSE Pred Mean diff\n",
       " Union    1.0    0.37     0.43      0.21\n",
       " Grüne  0.996    0.69     0.86     -0.34\n",
       " FDP    0.993    0.43     1.19      0.78,\n",
       " Timestamp('2003-03-21 00:00:00'):       R2 Reg MSE Reg MSE Pred Mean diff\n",
       " Union    1.0    0.73     2.22     -2.09\n",
       " SPD    0.999    1.02     2.63      2.58\n",
       " FDP    0.995    0.39     0.61     -0.36,\n",
       " Timestamp('2022-04-14 00:00:00'):       R2 Reg MSE Reg MSE Pred Mean diff\n",
       " Union  0.999     0.7     1.32      1.28\n",
       " SPD      1.0    0.25     0.63      0.56\n",
       " FDP    0.999    0.33     0.62      0.15\n",
       " AfD      1.0    0.22     0.43      0.41\n",
       " Linke    1.0    0.08     0.57     -0.35,\n",
       " Timestamp('2003-01-24 00:00:00'):       R2 Reg MSE Reg MSE Pred Mean diff\n",
       " Union    1.0    0.42     1.62      1.21\n",
       " SPD    0.999    0.69     1.68     -1.24}"
      ]
     },
     "execution_count": 25,
     "metadata": {},
     "output_type": "execute_result"
    }
   ],
   "source": [
    "results"
   ]
  },
  {
   "cell_type": "code",
   "execution_count": 27,
   "id": "e87c97a2-055c-4a2c-a540-9f3554ed5784",
   "metadata": {},
   "outputs": [
    {
     "name": "stderr",
     "output_type": "stream",
     "text": [
      "C:\\Users\\XeniaRieger\\AppData\\Local\\Temp\\ipykernel_5260\\4181486502.py:6: FutureWarning: In future versions `DataFrame.to_latex` is expected to utilise the base implementation of `Styler.to_latex` for formatting and rendering. The arguments signature may therefore change. It is recommended instead to use `DataFrame.style.to_latex` which also contains additional functionality.\n",
      "  f.write(df_now.to_latex(columns=[\"MSE Reg\", \"MSE Pred\", \"Mean diff\"]))\n",
      "C:\\Users\\XeniaRieger\\AppData\\Local\\Temp\\ipykernel_5260\\4181486502.py:6: FutureWarning: In future versions `DataFrame.to_latex` is expected to utilise the base implementation of `Styler.to_latex` for formatting and rendering. The arguments signature may therefore change. It is recommended instead to use `DataFrame.style.to_latex` which also contains additional functionality.\n",
      "  f.write(df_now.to_latex(columns=[\"MSE Reg\", \"MSE Pred\", \"Mean diff\"]))\n",
      "C:\\Users\\XeniaRieger\\AppData\\Local\\Temp\\ipykernel_5260\\4181486502.py:6: FutureWarning: In future versions `DataFrame.to_latex` is expected to utilise the base implementation of `Styler.to_latex` for formatting and rendering. The arguments signature may therefore change. It is recommended instead to use `DataFrame.style.to_latex` which also contains additional functionality.\n",
      "  f.write(df_now.to_latex(columns=[\"MSE Reg\", \"MSE Pred\", \"Mean diff\"]))\n",
      "C:\\Users\\XeniaRieger\\AppData\\Local\\Temp\\ipykernel_5260\\4181486502.py:6: FutureWarning: In future versions `DataFrame.to_latex` is expected to utilise the base implementation of `Styler.to_latex` for formatting and rendering. The arguments signature may therefore change. It is recommended instead to use `DataFrame.style.to_latex` which also contains additional functionality.\n",
      "  f.write(df_now.to_latex(columns=[\"MSE Reg\", \"MSE Pred\", \"Mean diff\"]))\n",
      "C:\\Users\\XeniaRieger\\AppData\\Local\\Temp\\ipykernel_5260\\4181486502.py:6: FutureWarning: In future versions `DataFrame.to_latex` is expected to utilise the base implementation of `Styler.to_latex` for formatting and rendering. The arguments signature may therefore change. It is recommended instead to use `DataFrame.style.to_latex` which also contains additional functionality.\n",
      "  f.write(df_now.to_latex(columns=[\"MSE Reg\", \"MSE Pred\", \"Mean diff\"]))\n",
      "C:\\Users\\XeniaRieger\\AppData\\Local\\Temp\\ipykernel_5260\\4181486502.py:6: FutureWarning: In future versions `DataFrame.to_latex` is expected to utilise the base implementation of `Styler.to_latex` for formatting and rendering. The arguments signature may therefore change. It is recommended instead to use `DataFrame.style.to_latex` which also contains additional functionality.\n",
      "  f.write(df_now.to_latex(columns=[\"MSE Reg\", \"MSE Pred\", \"Mean diff\"]))\n",
      "C:\\Users\\XeniaRieger\\AppData\\Local\\Temp\\ipykernel_5260\\4181486502.py:6: FutureWarning: In future versions `DataFrame.to_latex` is expected to utilise the base implementation of `Styler.to_latex` for formatting and rendering. The arguments signature may therefore change. It is recommended instead to use `DataFrame.style.to_latex` which also contains additional functionality.\n",
      "  f.write(df_now.to_latex(columns=[\"MSE Reg\", \"MSE Pred\", \"Mean diff\"]))\n",
      "C:\\Users\\XeniaRieger\\AppData\\Local\\Temp\\ipykernel_5260\\4181486502.py:6: FutureWarning: In future versions `DataFrame.to_latex` is expected to utilise the base implementation of `Styler.to_latex` for formatting and rendering. The arguments signature may therefore change. It is recommended instead to use `DataFrame.style.to_latex` which also contains additional functionality.\n",
      "  f.write(df_now.to_latex(columns=[\"MSE Reg\", \"MSE Pred\", \"Mean diff\"]))\n",
      "C:\\Users\\XeniaRieger\\AppData\\Local\\Temp\\ipykernel_5260\\4181486502.py:6: FutureWarning: In future versions `DataFrame.to_latex` is expected to utilise the base implementation of `Styler.to_latex` for formatting and rendering. The arguments signature may therefore change. It is recommended instead to use `DataFrame.style.to_latex` which also contains additional functionality.\n",
      "  f.write(df_now.to_latex(columns=[\"MSE Reg\", \"MSE Pred\", \"Mean diff\"]))\n",
      "C:\\Users\\XeniaRieger\\AppData\\Local\\Temp\\ipykernel_5260\\4181486502.py:6: FutureWarning: In future versions `DataFrame.to_latex` is expected to utilise the base implementation of `Styler.to_latex` for formatting and rendering. The arguments signature may therefore change. It is recommended instead to use `DataFrame.style.to_latex` which also contains additional functionality.\n",
      "  f.write(df_now.to_latex(columns=[\"MSE Reg\", \"MSE Pred\", \"Mean diff\"]))\n"
     ]
    }
   ],
   "source": [
    "# write tex file\n",
    "with open(\"table_regression.tex\", \"w\") as f:\n",
    "    for date in results:\n",
    "        f.write(date.strftime(\"%d.%m.%Y\") + \"\\\\\\n\")\n",
    "        df_now = results[date]\n",
    "        f.write(df_now.to_latex(columns=[\"MSE Reg\", \"MSE Pred\", \"Mean diff\"]))"
   ]
  },
  {
   "cell_type": "code",
   "execution_count": 29,
   "id": "f3540dcf-5edd-40c6-8d3b-7f5996a4b874",
   "metadata": {},
   "outputs": [
    {
     "data": {
      "image/png": "[encoded data removed]",
      "text/plain": [
       "<Figure size 1000x600 with 1 Axes>"
      ]
     },
     "metadata": {},
     "output_type": "display_data"
    }
   ],
   "source": [
    "# plot\n",
    "date = dates_max.iloc[0]['date']\n",
    "colors = {\"Union\": \"black\", \"SPD\":\"red\", \"Grüne\":\"green\", \"Linke\":\"purple\", \"AfD\":\"blue\", \"FDP\":\"yellow\"}\n",
    "#plt.rcParams.update(bundles.icml2022(column='full', nrows=2, ncols=2, usetex=False))\n",
    "fig, ax1 = plt.subplots(figsize=(10, 6)) # remove figsize with tueplots\n",
    "ax1.set_xlabel('Date') \n",
    "ax1.set_ylabel('Election Prediction %')\n",
    "time_after = 4*7 # three weeks\n",
    "time_before = 4*7\n",
    "date_after = date + datetime.timedelta(days=time_after)\n",
    "date_before = date - datetime.timedelta(days=time_before)\n",
    "total_df = df[(df[\"date\"] <= date_after) & (df[\"date\"] >= date_before)]\n",
    "regression_df = total_df[total_df[\"date\"] <= date]\n",
    "pred_df = total_df[total_df[\"date\"] >= date]\n",
    "for party in [\"Union\", \"SPD\", \"Grüne\"]:\n",
    "    regression_df = regression_df[(~regression_df[party].isna())]\n",
    "    pred_df = pred_df[(~pred_df[party].isna())]\n",
    "    if regression_df.empty or pred_df.empty:\n",
    "        continue\n",
    "    X = regression_df.index.values\n",
    "    Y = regression_df[party]\n",
    "    # fit model\n",
    "    model = sm.OLS(Y, X).fit()\n",
    "    # get values for regression\n",
    "    y_reg = model.predict(X)\n",
    "    # get values for prediction\n",
    "    X_pred = pred_df.index.values\n",
    "    Y_pred = pred_df[party]\n",
    "    y_pred = model.predict(X_pred)\n",
    "    ax1.plot(total_df['date'], total_df[party], color=colors[party], marker='o', linestyle='-',)\n",
    "    ax1.plot(regression_df['date'], y_reg)\n",
    "    ax1.plot(pred_df['date'], y_pred)"
   ]
  }
 ],
 "metadata": {
  "kernelspec": {
   "display_name": "Python 3 (ipykernel)",
   "language": "python",
   "name": "python3"
  },
  "language_info": {
   "codemirror_mode": {
    "name": "ipython",
    "version": 3
   },
   "file_extension": ".py",
   "mimetype": "text/x-python",
   "name": "python",
   "nbconvert_exporter": "python",
   "pygments_lexer": "ipython3",
   "version": "3.10.4"
  }
 },
 "nbformat": 4,
 "nbformat_minor": 5
}
