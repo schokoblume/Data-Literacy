{
 "cells": [
  {
   "cell_type": "code",
   "execution_count": 88,
   "metadata": {},
   "outputs": [],
   "source": [
    "import pandas as pd\n",
    "\n",
    "read_path = r'C:\\Users\\Julia\\Documents\\Uni\\Master\\1\\Data-Literacy\\Data-Literacy\\Data\\joined_survey_article_standardized_median.csv'\n",
    "df = pd.read_csv(read_path, delimiter=';', header=0)\n",
    "df[\"date\"] = pd.to_datetime(df[\"date\"], format=\"%d.%m.%Y\")\n",
    "df[\"SPD\"] = pd.to_numeric(df[\"SPD\"], errors='coerce')\n",
    "df[\"Union\"] = pd.to_numeric(df[\"Union\"], errors='coerce')\n",
    "df[\"Grüne\"] = pd.to_numeric(df[\"Grüne\"], errors='coerce')\n",
    "df[\"FDP\"] = pd.to_numeric(df[\"FDP\"], errors='coerce')\n",
    "df[\"AfD\"] = pd.to_numeric(df[\"AfD\"], errors='coerce')\n",
    "df[\"Linke\"] = pd.to_numeric(df[\"Linke\"], errors='coerce')"
   ]
  },
  {
   "cell_type": "code",
   "execution_count": 89,
   "metadata": {},
   "outputs": [],
   "source": [
    "read_path = r'C:\\Users\\Julia\\Documents\\Uni\\Master\\1\\Data-Literacy\\Data-Literacy\\Data\\federal_election_results.csv'\n",
    "df_election = pd.read_csv(read_path, delimiter=';', header=0)\n",
    "df_election = df_election.dropna(axis=0, how='all')\n",
    "df_election[\"date\"] = pd.to_datetime(df_election[\"date\"], format=\"%d.%m.%Y\")"
   ]
  },
  {
   "cell_type": "code",
   "execution_count": 90,
   "metadata": {},
   "outputs": [],
   "source": [
    "# Get closest surveys\n",
    "selected_rows = []\n",
    "\n",
    "for index_election, row_election in df_election.iterrows():\n",
    "    date_differences = abs(df['date'] - row_election['date'])\n",
    "    min_diff_index = date_differences.idxmin()\n",
    "    selected_rows.append(df.loc[min_diff_index])\n",
    "\n",
    "df_survey = pd.DataFrame(selected_rows)"
   ]
  },
  {
   "cell_type": "code",
   "execution_count": 91,
   "metadata": {},
   "outputs": [],
   "source": [
    "# compare federal elction with prediction data\n",
    "df_election['date'] = pd.to_datetime(df_election['date']).dt.year\n",
    "df_survey['date'] = pd.to_datetime(df_survey['date']).dt.year\n",
    "merged_df = pd.merge(df_survey, df_election, on='date', suffixes=('_survey', '_election'))\n",
    "\n",
    "party_columns = ['SPD', 'Union', 'Grüne', 'FDP', 'AfD', 'Linke']\n",
    "\n",
    "#percentage difference for each party\n",
    "for party in party_columns:\n",
    "    merged_df[f'{party}_diff_percent'] = ((merged_df[f'{party}_survey'] - merged_df[f'{party}_election']) / merged_df[f'{party}_election']) * 100\n",
    "\n",
    "merged_df[['SPD_diff_percent', 'Union_diff_percent', 'Grüne_diff_percent', 'FDP_diff_percent', 'AfD_diff_percent', 'Linke_diff_percent']] = merged_df[['SPD_diff_percent', 'Union_diff_percent', 'Grüne_diff_percent', 'FDP_diff_percent', 'AfD_diff_percent', 'Linke_diff_percent']].abs()\n",
    "\n",
    "#  overall difference\n",
    "merged_df['overall_diff_percent'] = merged_df[[f'{party}_diff_percent' for party in party_columns]].mean(axis=1)\n",
    "\n"
   ]
  },
  {
   "cell_type": "code",
   "execution_count": 92,
   "metadata": {},
   "outputs": [
    {
     "data": {
      "text/plain": [
       "4.444841201167891"
      ]
     },
     "execution_count": 92,
     "metadata": {},
     "output_type": "execute_result"
    }
   ],
   "source": [
    "# mean difference\n",
    "merged_df['overall_diff_percent'].mean()"
   ]
  }
 ],
 "metadata": {
  "kernelspec": {
   "display_name": "Python 3",
   "language": "python",
   "name": "python3"
  },
  "language_info": {
   "codemirror_mode": {
    "name": "ipython",
    "version": 3
   },
   "file_extension": ".py",
   "mimetype": "text/x-python",
   "name": "python",
   "nbconvert_exporter": "python",
   "pygments_lexer": "ipython3",
   "version": "3.10.11"
  }
 },
 "nbformat": 4,
 "nbformat_minor": 2
}
